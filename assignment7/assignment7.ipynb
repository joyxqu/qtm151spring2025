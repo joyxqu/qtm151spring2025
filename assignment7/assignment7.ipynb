{
 "cells": [
  {
   "cell_type": "markdown",
   "metadata": {},
   "source": [
    "# Assignment 7"
   ]
  },
  {
   "cell_type": "markdown",
   "metadata": {},
   "source": [
    "## Submit as an HTML file"
   ]
  },
  {
   "cell_type": "markdown",
   "metadata": {},
   "source": [
    "### Print your name below"
   ]
  },
  {
   "cell_type": "code",
   "execution_count": 1,
   "metadata": {},
   "outputs": [
    {
     "name": "stdout",
     "output_type": "stream",
     "text": [
      "Joy Qu\n"
     ]
    }
   ],
   "source": [
    "print(\"Joy Qu\")"
   ]
  },
  {
   "cell_type": "markdown",
   "metadata": {},
   "source": [
    "### Import the \"pandas\" \"numpy\" and \"statsmodels.formula.api\" libraries"
   ]
  },
  {
   "cell_type": "code",
   "execution_count": 2,
   "metadata": {},
   "outputs": [],
   "source": [
    "# Import the pandas library\n",
    "import pandas as pd\n",
    "\n",
    "# Import the numpy library\n",
    "import numpy as np\n",
    "\n",
    "# Import the statsmodels library\n",
    "import statsmodels.formula.api as smf"
   ]
  },
  {
   "cell_type": "markdown",
   "metadata": {},
   "source": [
    "#### In the code chunk below read the CSV file named `results.csv` in the `data` <br> folder and print the first 5 rows of the dataset. Browse the dataset."
   ]
  },
  {
   "cell_type": "code",
   "execution_count": null,
   "metadata": {},
   "outputs": [
    {
     "name": "stdout",
     "output_type": "stream",
     "text": [
      "   resultId  raceId  driverId  ...  fastestLapTime fastestLapSpeed  statusId\n",
      "0         1      18         1  ...        1:27.452         218.300         1\n",
      "1         2      18         2  ...        1:27.739         217.586         1\n",
      "2         3      18         3  ...        1:28.090         216.719         1\n",
      "3         4      18         4  ...        1:28.603         215.464         1\n",
      "4         5      18         5  ...        1:27.418         218.385         1\n",
      "\n",
      "[5 rows x 18 columns]\n"
     ]
    }
   ],
   "source": [
    "# Read the results dataset\n",
    "results = pd.read_csv('data/results.csv')\n",
    "\n",
    "# Print the first 5 rows of the dataset\n",
    "print(results.head())"
   ]
  },
  {
   "cell_type": "markdown",
   "metadata": {},
   "source": [
    "### (a)  Check Column Types and Data Cleaning\n",
    "\n",
    "- Use the function .dtypes to get the column types\n",
    "- Identify which columns have data types that might need conversion\n",
    "- The 'milliseconds' column contains string values that should be numeric. Create a new column called 'race_time_ms' that:\n",
    "    - Converts the column to a numeric data type\n",
    "    - Replaces any non-numeric values with NaN"
   ]
  },
  {
   "cell_type": "code",
   "execution_count": null,
   "metadata": {},
   "outputs": [],
   "source": [
    "# Write your answer here\n",
    "\n",
    "\n"
   ]
  },
  {
   "cell_type": "markdown",
   "metadata": {},
   "source": [
    "### (b) Create Categorical Variables\n",
    "\n",
    "- Create a new column called 'finish_category' that categorizes the race finish positions as follows:\n",
    "    - Positions 1-3: 'Podium'\n",
    "    - Positions 4-10: 'Points'\n",
    "    - Positions 11-20: 'Midfield'\n",
    "    - Positions >20: 'Backmarker'\n",
    "\n",
    "Hint: Use the pd.cut() function"
   ]
  },
  {
   "cell_type": "code",
   "execution_count": null,
   "metadata": {},
   "outputs": [],
   "source": [
    "# Write your answer here\n",
    "\n",
    "\n"
   ]
  },
  {
   "cell_type": "markdown",
   "metadata": {},
   "source": [
    "### (c) Calculate Race Duration\n",
    "- For rows where 'milliseconds' is available, create a new column <br>\n",
    "'race_duration_minutes' that converts milliseconds to minutes by dividing <br>\n",
    "by (1000*60).\n",
    "- Display the average race duration by 'constructorId' for the top 5 <br>\n",
    "constructors with the shortest average race times"
   ]
  },
  {
   "cell_type": "code",
   "execution_count": 4,
   "metadata": {},
   "outputs": [],
   "source": [
    "# Write your answer here\n",
    "\n"
   ]
  },
  {
   "cell_type": "markdown",
   "metadata": {},
   "source": [
    "### (d) Driver Performance Analysis\n",
    "\n",
    "- Calculate the following statistics for each driver, grouped by 'driverId':\n",
    "    - Average finishing position\n",
    "    - Total points\n",
    "    - Number of races completed\n",
    "    - Best finishing position\n",
    "\n",
    "- Sort the results by total points in descending order\n",
    "- Display the top 10 drivers based on total points"
   ]
  },
  {
   "cell_type": "code",
   "execution_count": 5,
   "metadata": {},
   "outputs": [],
   "source": [
    "# Write your answer here\n",
    "\n"
   ]
  },
  {
   "cell_type": "markdown",
   "metadata": {},
   "source": [
    "### (e) Linear Regression\n",
    "Create a linear regression model that predicts 'points' based on 'grid' (starting position) and 'laps' completed <br>\n",
    "Use the following steps:\n",
    "\n",
    "- Clean the data to remove any non-numeric values and missing values\n",
    "- Create the regression formula using smf.ols \n",
    "- Display the summary of the regression model using model.summary()\n",
    "\n",
    "What is the predicted points for a driver starting in position 3 and completing 55 laps?\n",
    "\n",
    "Hint: Use ```.dropna()''' to remove missing values from the points, grid, and laps <br>\n",
    "variables."
   ]
  },
  {
   "cell_type": "code",
   "execution_count": 6,
   "metadata": {},
   "outputs": [],
   "source": [
    "# Write your answer here\n",
    "\n"
   ]
  }
 ],
 "metadata": {
  "kernelspec": {
   "display_name": "base",
   "language": "python",
   "name": "python3"
  },
  "language_info": {
   "codemirror_mode": {
    "name": "ipython",
    "version": 3
   },
   "file_extension": ".py",
   "mimetype": "text/x-python",
   "name": "python",
   "nbconvert_exporter": "python",
   "pygments_lexer": "ipython3",
   "version": "3.12.7"
  }
 },
 "nbformat": 4,
 "nbformat_minor": 2
}
